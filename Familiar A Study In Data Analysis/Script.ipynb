{
  "nbformat": 4,
  "nbformat_minor": 0,
  "metadata": {
    "colab": {
      "name": "Script.ipynb",
      "provenance": [],
      "toc_visible": true
    },
    "kernelspec": {
      "name": "python3",
      "display_name": "Python 3"
    }
  },
  "cells": [
    {
      "cell_type": "markdown",
      "metadata": {
        "id": "77yiji1vBIFg",
        "colab_type": "text"
      },
      "source": [
        "###HYPOTHESIS TESTING WITH SCIPY\n",
        "#Familiar: A Study In Data Analysis\n",
        "Welcome to Familiar, a startup in the new market of blood transfusion! You’ve joined the team because you appreciate the flexible hours and extremely intelligent team, but the overeager doorman welcoming you into the office is a nice way to start your workday (well, work-evening).\n",
        "\n",
        "Familiar has fallen into some tough times lately, so you’re hoping to help them make some insights about their product and help move the needle (so to speak)."
      ]
    },
    {
      "cell_type": "code",
      "metadata": {
        "id": "OuFefu0eBDPi",
        "colab_type": "code",
        "colab": {}
      },
      "source": [
        "import familiar\n",
        "from scipy.stats import ttest_1samp\n",
        "from scipy.stats import ttest_ind\n",
        "from scipy.stats import chi2_contingency\n"
      ],
      "execution_count": 5,
      "outputs": []
    },
    {
      "cell_type": "markdown",
      "metadata": {
        "id": "gv0zw49uB4sL",
        "colab_type": "text"
      },
      "source": [
        "now the first thing we want to show is that our most basic package, the Vein Pack, actually has a significant impact on the subscribers. It would be a marketing goldmine if we can show that subscribers to the Vein Pack live longer than other people.\n",
        "\n",
        "Lifespans of Vein Pack users are returned by the function lifespans(package='vein'), which is part of the familiar module. Call that function and save the data into a variable called vein_pack_lifespans."
      ]
    },
    {
      "cell_type": "code",
      "metadata": {
        "id": "SAmigVXkBN1D",
        "colab_type": "code",
        "colab": {}
      },
      "source": [
        "vein_pack_lifespans = familiar.lifespans(package='vein')"
      ],
      "execution_count": 7,
      "outputs": []
    },
    {
      "cell_type": "markdown",
      "metadata": {
        "id": "RqxkmJtECAqL",
        "colab_type": "text"
      },
      "source": [
        "\n",
        "We’d like to find out if the average lifespan of a Vein Pack subscriber is significantly different from the average life expectancy of 71 years."
      ]
    },
    {
      "cell_type": "code",
      "metadata": {
        "id": "Uz92BUgQB7-S",
        "colab_type": "code",
        "colab": {
          "base_uri": "https://localhost:8080/",
          "height": 34
        },
        "outputId": "1845a93d-6733-4119-aa0e-317880f73a62"
      },
      "source": [
        "vein_pack_test = ttest_1samp(vein_pack_lifespans, 71)\n",
        "print(vein_pack_test.pvalue)"
      ],
      "execution_count": 9,
      "outputs": [
        {
          "output_type": "stream",
          "text": [
            "2.7463117986584107e-10\n"
          ],
          "name": "stdout"
        }
      ]
    },
    {
      "cell_type": "markdown",
      "metadata": {
        "id": "KgbVQopwCPW4",
        "colab_type": "text"
      },
      "source": [
        "\n",
        "Let’s check if the results are significant! Check the pvalue of vein_pack_test. If it’s less than 0.05, we’ve got significance!"
      ]
    },
    {
      "cell_type": "markdown",
      "metadata": {
        "id": "0U7_TPX_CUpI",
        "colab_type": "text"
      },
      "source": [
        "Let’s print some information out! If the test’s p-value is less than 0.05, print “The Vein Pack Is Proven To Make You Live Longer!”. Otherwise print “The Vein Pack Is Probably Good For You Somehow!”"
      ]
    },
    {
      "cell_type": "code",
      "metadata": {
        "id": "dIKdnqNnCEkl",
        "colab_type": "code",
        "colab": {
          "base_uri": "https://localhost:8080/",
          "height": 34
        },
        "outputId": "91fe6e53-8b58-475f-e4a7-7639f67aae72"
      },
      "source": [
        "if vein_pack_test.pvalue < 0.05:\n",
        "  print('The Vein Pack Is Proven To Make You Live Longer!')\n",
        "else:\n",
        "  print('The Vein Pack Is Probably Good For You Somehow!')"
      ],
      "execution_count": 10,
      "outputs": [
        {
          "output_type": "stream",
          "text": [
            "The Vein Pack Is Proven To Make You Live Longer!\n"
          ],
          "name": "stdout"
        }
      ]
    },
    {
      "cell_type": "markdown",
      "metadata": {
        "id": "B0vCU1EfCcCp",
        "colab_type": "text"
      },
      "source": [
        "#Upselling Familiar: Pumping Life Into The Company"
      ]
    },
    {
      "cell_type": "markdown",
      "metadata": {
        "id": "6YgitF4lCdc4",
        "colab_type": "text"
      },
      "source": [
        "\n",
        "In order to differentiate Familiar’s different product lines, we’d like to compare this lifespan data between our different packages. Our next step up from the Vein Pack is the Artery Pack. Let’s get the lifespans of Artery Pack subscribers using the same method, called with package='artery' instead. Save the value into a variable called artery_pack_lifespans."
      ]
    },
    {
      "cell_type": "code",
      "metadata": {
        "id": "P3uI9zZWCXq2",
        "colab_type": "code",
        "colab": {}
      },
      "source": [
        "artery_pack_lifespans = familiar.lifespans(package='artery')\n"
      ],
      "execution_count": 11,
      "outputs": []
    },
    {
      "cell_type": "markdown",
      "metadata": {
        "id": "KHu_NmSgClHn",
        "colab_type": "text"
      },
      "source": [
        "\n",
        "Now we want to show that the subscribers to the Artery Pack experience a significant improvement even beyond what a Vein Pack subscriber’s benefits. Import the 2-Sample T-Test and we’ll use that to see if there is a significant difference between the two subscriptions."
      ]
    },
    {
      "cell_type": "code",
      "metadata": {
        "id": "RXv15wL1CiOt",
        "colab_type": "code",
        "colab": {
          "base_uri": "https://localhost:8080/",
          "height": 34
        },
        "outputId": "c3258532-289a-40d2-b02e-5f3b8f3f0419"
      },
      "source": [
        "package_comparison_results=ttest_ind(vein_pack_lifespans,artery_pack_lifespans)\n",
        "\n",
        "print(package_comparison_results.pvalue)\n"
      ],
      "execution_count": 12,
      "outputs": [
        {
          "output_type": "stream",
          "text": [
            "0.05588883079070819\n"
          ],
          "name": "stdout"
        }
      ]
    },
    {
      "cell_type": "markdown",
      "metadata": {
        "id": "o7-taV2_Ct-9",
        "colab_type": "text"
      },
      "source": [
        "\n",
        "Let’s see the results! If the p-value from our experiment is less than 0.05, the results are significant and we should print out “the Artery Package guarantees even stronger results!”. Otherwise we should print out “the Artery Package is also a great product!”"
      ]
    },
    {
      "cell_type": "code",
      "metadata": {
        "id": "94EgaGkvCrNd",
        "colab_type": "code",
        "colab": {
          "base_uri": "https://localhost:8080/",
          "height": 34
        },
        "outputId": "5a9ee26d-0e4e-4c62-c1f1-10a503150e45"
      },
      "source": [
        "if package_comparison_results.pvalue < 0.05:\n",
        "  print('the Artery Package guarantees even stronger results!')\n",
        "else:\n",
        "  print('the Artery Package is also a great product!')\n"
      ],
      "execution_count": 13,
      "outputs": [
        {
          "output_type": "stream",
          "text": [
            "the Artery Package is also a great product!\n"
          ],
          "name": "stdout"
        }
      ]
    },
    {
      "cell_type": "markdown",
      "metadata": {
        "id": "QozzkSC4CzQd",
        "colab_type": "text"
      },
      "source": [
        "Well, shame that it’s not significantly better, but maybe there’s a way to demonstrate the benefits of the Artery Package yet."
      ]
    },
    {
      "cell_type": "markdown",
      "metadata": {
        "id": "n6ldbuB6C1Zt",
        "colab_type": "text"
      },
      "source": [
        "#Benefitting Everyone: A Familiar Problem"
      ]
    },
    {
      "cell_type": "markdown",
      "metadata": {
        "id": "bVqq6FlOC4m8",
        "colab_type": "text"
      },
      "source": [
        "If your lifespan isn’t significantly increased by signing up for the Artery Package, maybe we can make some other claim about the benefits of the package. To that end, we’ve sent out a survey collecting the iron counts for our subscribers, and filtered that data into “low”, “normal”, and “high”.\n",
        "\n",
        "We received 200 responses from our Vein Package subscribers. 70% of them had low iron counts, 20% had normal, and 10% of them have high iron counts.\n",
        "\n",
        "We were only able to get 145 responses from our Artery Package subscribers, but only 20% of them had low iron counts. 60% had normal, and 20% have high iron counts."
      ]
    },
    {
      "cell_type": "markdown",
      "metadata": {
        "id": "haJoluBsC4gL",
        "colab_type": "text"
      },
      "source": [
        "\n",
        "The data from the survey has been collected and formatted into a contingency table. You can access that data from the function familiar.iron_counts_for_package(). Save the survey results into a variable called iron_contingency_table."
      ]
    },
    {
      "cell_type": "code",
      "metadata": {
        "id": "j3EyrnYGC-rs",
        "colab_type": "code",
        "colab": {}
      },
      "source": [
        "iron_contingency_table =familiar.iron_counts_for_package()"
      ],
      "execution_count": 14,
      "outputs": []
    },
    {
      "cell_type": "markdown",
      "metadata": {
        "id": "GFPZWO26DEQe",
        "colab_type": "text"
      },
      "source": [
        "\n",
        "We want to be able to tell if what seems like a higher number of our Artery Package subscribers is a significant difference from what was reported by Vein Package subscribers. Import the Chi-Squared test so that we can find out."
      ]
    },
    {
      "cell_type": "markdown",
      "metadata": {
        "id": "9LM2-vJXDHl_",
        "colab_type": "text"
      },
      "source": [
        "Run the Chi-Squared test on the iron_contingency_table and save the p-value in a variable called iron_pvalue. Remember that this test returns four things: the test statistic, the p-value, the number of degrees of freedom, and the expected frequencies."
      ]
    },
    {
      "cell_type": "code",
      "metadata": {
        "id": "swyM_L90DE1g",
        "colab_type": "code",
        "colab": {
          "base_uri": "https://localhost:8080/",
          "height": 34
        },
        "outputId": "f0bc40e3-e49a-494b-fbcb-f2d2a091c19e"
      },
      "source": [
        "_, iron_pvalue, _, _ = chi2_contingency(iron_contingency_table)\n",
        "print(iron_pvalue)\n"
      ],
      "execution_count": 15,
      "outputs": [
        {
          "output_type": "stream",
          "text": [
            "2.9227133549883315e-19\n"
          ],
          "name": "stdout"
        }
      ]
    },
    {
      "cell_type": "markdown",
      "metadata": {
        "id": "54cPk34TDMx2",
        "colab_type": "text"
      },
      "source": [
        "\n",
        "Here’s the big moment: if the iron_pvalue is less than 0.05, print out “The Artery Package Is Proven To Make You Healthier!” otherwise we’ll have to use our other marketing copy: “While We Can’t Say The Artery Package Will Help You, I Bet It’s Nice!”"
      ]
    },
    {
      "cell_type": "code",
      "metadata": {
        "id": "81ln7ek8DKn4",
        "colab_type": "code",
        "colab": {
          "base_uri": "https://localhost:8080/",
          "height": 34
        },
        "outputId": "5fafb11a-b78f-474b-af52-b1c1ff41cf22"
      },
      "source": [
        "if iron_pvalue < 0.05 :\n",
        "  print(' The Artery Package Is Proven To Make You Healthier! ')\n",
        "else:\n",
        "  print(' While We Can’t Say The Artery     Package Will Help You, I Bet It’s Nice!') "
      ],
      "execution_count": 16,
      "outputs": [
        {
          "output_type": "stream",
          "text": [
            " The Artery Package Is Proven To Make You Healthier! \n"
          ],
          "name": "stdout"
        }
      ]
    },
    {
      "cell_type": "markdown",
      "metadata": {
        "id": "X9izj77HDUI-",
        "colab_type": "text"
      },
      "source": [
        "Fantastic! With proven benefits to both of our product lines, we can definitely ramp up our marketing and sales. Look out for a Familiar face in drug stores everywhere."
      ]
    }
  ]
}
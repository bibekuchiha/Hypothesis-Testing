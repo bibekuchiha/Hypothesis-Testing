{
  "nbformat": 4,
  "nbformat_minor": 0,
  "metadata": {
    "colab": {
      "name": "script.ipynb",
      "provenance": []
    },
    "kernelspec": {
      "name": "python3",
      "display_name": "Python 3"
    }
  },
  "cells": [
    {
      "cell_type": "code",
      "metadata": {
        "id": "sjQdTetmLHUc",
        "colab_type": "code",
        "colab": {
          "base_uri": "https://localhost:8080/",
          "height": 71
        },
        "outputId": "3c9199c2-40e3-4aac-a700-1c0396c6859b"
      },
      "source": [
        "#importing libraries\n",
        "import numpy as np\n",
        "import fetchmaker\n",
        "from scipy.stats import binom_test\n",
        "from scipy.stats import f_oneway\n",
        "from statsmodels.stats.multicomp import pairwise_tukeyhsd\n",
        "from scipy.stats import chi2_contingency"
      ],
      "execution_count": 15,
      "outputs": [
        {
          "output_type": "stream",
          "text": [
            "/usr/local/lib/python3.6/dist-packages/statsmodels/tools/_testing.py:19: FutureWarning: pandas.util.testing is deprecated. Use the functions in the public API at pandas.testing instead.\n",
            "  import pandas.util.testing as tm\n"
          ],
          "name": "stderr"
        }
      ]
    },
    {
      "cell_type": "markdown",
      "metadata": {
        "id": "fng5Wa5INupo",
        "colab_type": "text"
      },
      "source": [
        "\n",
        "The attributes that FetchMaker keeps track of are:\n",
        "\n",
        "weight, an integer representing how heavy a dog is in pounds\n",
        "tail_length, a float representing tail length in inches\n",
        "age, in years\n",
        "color, a String such as \"brown\" or \"grey\"\n",
        "is_rescue, a boolean 0 or 1\n",
        "The fetchmaker package lets you access this data for a specific breed of dog with the following format:\n",
        "\n",
        "fetchmaker.get_weight(\"poodle\")\n",
        "This returns a Pandas DataFrame of the weights of the poodles recorded in the system. The other methods are get_tail_length, get_color, get_age, and get_is_rescue, which all take a breed as an input."
      ]
    },
    {
      "cell_type": "code",
      "metadata": {
        "id": "hXHyzFifN_B2",
        "colab_type": "code",
        "colab": {
          "base_uri": "https://localhost:8080/",
          "height": 221
        },
        "outputId": "aec80f36-55b8-4c34-dfd2-f5900604d9c4"
      },
      "source": [
        "#Get the tail lengths of all of the \"rottweiler\"s in the system, and store it in a variable called rottweiler_tl.\n",
        "rottweiler_tl =fetchmaker.get_tail_length('rottweiler')\n",
        "print(rottweiler_tl)"
      ],
      "execution_count": 17,
      "outputs": [
        {
          "output_type": "stream",
          "text": [
            "400    3.13\n",
            "401    3.32\n",
            "402    1.16\n",
            "403    2.23\n",
            "404    8.86\n",
            "       ... \n",
            "495    3.28\n",
            "496    5.50\n",
            "497    2.95\n",
            "498    4.64\n",
            "499    3.39\n",
            "Name: tail_length, Length: 100, dtype: float64\n"
          ],
          "name": "stdout"
        }
      ]
    },
    {
      "cell_type": "code",
      "metadata": {
        "id": "MIKJpGglN0aY",
        "colab_type": "code",
        "colab": {
          "base_uri": "https://localhost:8080/",
          "height": 85
        },
        "outputId": "70784f41-11c4-4792-e25a-9ce341d7c486"
      },
      "source": [
        "#Print out the mean of rottweiler_tl and the standard deviation of rottweiler_tl\n",
        "rottweiler_tl_mean = np.mean(rottweiler_tl)\n",
        "rottweiler_tl_std = np.std(rottweiler_tl)\n",
        "print('The rottweiler avg tail length is {} \\n'. format(rottweiler_tl_mean))\n",
        "print('The rottweiler std dev of tail length is {} \\n'. format(rottweiler_tl_std))\n"
      ],
      "execution_count": 18,
      "outputs": [
        {
          "output_type": "stream",
          "text": [
            "The rottweiler avg tail length is 4.2361 \n",
            "\n",
            "The rottweiler std dev of tail length is 2.0647536874891395 \n",
            "\n"
          ],
          "name": "stdout"
        }
      ]
    },
    {
      "cell_type": "markdown",
      "metadata": {
        "id": "x1KlTYn1Nvpm",
        "colab_type": "text"
      },
      "source": [
        "#Data to the rescue\n"
      ]
    },
    {
      "cell_type": "markdown",
      "metadata": {
        "id": "fFVNWZ77OT2V",
        "colab_type": "text"
      },
      "source": [
        "\n",
        "Over the years, we have seen that we expect 8% of dogs in the FetchMaker system to be rescues. We want to know if whippets are significantly more or less likely to be a rescue."
      ]
    },
    {
      "cell_type": "code",
      "metadata": {
        "id": "qMtSIeUiOXy_",
        "colab_type": "code",
        "colab": {
          "base_uri": "https://localhost:8080/",
          "height": 221
        },
        "outputId": "ad24ea8e-2cee-4780-ccff-d08987a94191"
      },
      "source": [
        "whippet_rescue = fetchmaker.get_is_rescue('whippet')\n",
        "print(whippet_rescue)"
      ],
      "execution_count": 19,
      "outputs": [
        {
          "output_type": "stream",
          "text": [
            "700    0\n",
            "701    0\n",
            "702    0\n",
            "703    0\n",
            "704    0\n",
            "      ..\n",
            "795    0\n",
            "796    0\n",
            "797    0\n",
            "798    0\n",
            "799    0\n",
            "Name: is_rescue, Length: 100, dtype: int64\n"
          ],
          "name": "stdout"
        }
      ]
    },
    {
      "cell_type": "markdown",
      "metadata": {
        "id": "2CR_WjAMOcTl",
        "colab_type": "text"
      },
      "source": [
        "Use np.count_nonzero to get the number of entries in whippet_rescue that are 1"
      ]
    },
    {
      "cell_type": "code",
      "metadata": {
        "id": "4M050fWaOgTN",
        "colab_type": "code",
        "colab": {
          "base_uri": "https://localhost:8080/",
          "height": 51
        },
        "outputId": "fa3a4ace-96db-434c-d50f-46a95bcf80b6"
      },
      "source": [
        "num_whippet_rescues = np.count_nonzero(whippet_rescue)\n",
        "print('The count of (1) entry in the whippet_rescue is {} \\n'.format(num_whippet_rescues))\n"
      ],
      "execution_count": 21,
      "outputs": [
        {
          "output_type": "stream",
          "text": [
            "The count of (1) entry in the whippet_rescue is 6 \n",
            "\n"
          ],
          "name": "stdout"
        }
      ]
    },
    {
      "cell_type": "markdown",
      "metadata": {
        "id": "IIe4coqQOtZ0",
        "colab_type": "text"
      },
      "source": [
        "Get the number of samples in the whippet set by taking the np.size of whippet_rescue. Store this in a variable called num_whippets."
      ]
    },
    {
      "cell_type": "code",
      "metadata": {
        "id": "YutUzJd-Oibw",
        "colab_type": "code",
        "colab": {
          "base_uri": "https://localhost:8080/",
          "height": 51
        },
        "outputId": "8cb27294-a9ee-4cdc-971b-ac0fd8d436fb"
      },
      "source": [
        "\n",
        "num_whippets = np.size(whippet_rescue)\n",
        "print('The number of samples in the whippet_rescue is {} \\n'.format(num_whippets))\n"
      ],
      "execution_count": 23,
      "outputs": [
        {
          "output_type": "stream",
          "text": [
            "The number of samples in the whippet_rescue is 100 \n",
            "\n"
          ],
          "name": "stdout"
        }
      ]
    },
    {
      "cell_type": "markdown",
      "metadata": {
        "id": "QFX9ZtfhO1UD",
        "colab_type": "text"
      },
      "source": [
        "\n",
        "Use a binomial test to test the number of whippet rescues, num_whippet_rescues, against our expected percentage, 8%."
      ]
    },
    {
      "cell_type": "code",
      "metadata": {
        "id": "E2hRtYWiOwY-",
        "colab_type": "code",
        "colab": {
          "base_uri": "https://localhost:8080/",
          "height": 122
        },
        "outputId": "b3bff1c9-4c1b-4c89-d144-e82bb28cb09b"
      },
      "source": [
        "binom_test_whippets_rescues = binom_test(num_whippet_rescues,num_whippets,0.8)\n",
        "print('The P-Value of the whippet_rescue is {} \\n'.format(binom_test_whippets_rescues))\n",
        "print('So the P-Value from the Whippet_Rescue Binomial Test is %.3f and therefore, we accept the null hypothesis, which is that there is no difference between the observed number of whippet rescues and our expected whippet rescues percentage'%(binom_test_whippets_rescues))\n",
        "print('\\n')"
      ],
      "execution_count": 26,
      "outputs": [
        {
          "output_type": "stream",
          "text": [
            "The P-Value of the whippet_rescue is 6.28850444995885e-58 \n",
            "\n",
            "So the P-Value from the Whippet_Rescue Binomial Test is 0.000 and therefore, we accept the null hypothesis, which is that there is no difference between the observed number of whippet rescues and our expected whippet rescues percentage\n",
            "\n",
            "\n"
          ],
          "name": "stdout"
        }
      ]
    },
    {
      "cell_type": "markdown",
      "metadata": {
        "id": "Q-KDx2-xPHGM",
        "colab_type": "text"
      },
      "source": [
        "Three of our most popular mid-sized dog breeds are whippets, terriers, and pitbulls. Is there a significant difference in the average weights of these three dog breeds? Perform a comparative numerical test to determine if there is a significant difference."
      ]
    },
    {
      "cell_type": "code",
      "metadata": {
        "id": "dMcHvxsbO4a-",
        "colab_type": "code",
        "colab": {
          "base_uri": "https://localhost:8080/",
          "height": 88
        },
        "outputId": "1e795633-b089-4294-9734-2a90c9b5a544"
      },
      "source": [
        "w = fetchmaker.get_weight('whippet')\n",
        "t = fetchmaker.get_weight('terrier')\n",
        "p = fetchmaker.get_weight('pitbull')\n",
        "\n",
        "ANOVA_mid_size_dogs = f_oneway(w, t, p)\n",
        "print('The P-value obtained from the ANOVA test on these three popular breeds is %.10f and therefore, we reject the null hypothesis, which is there is significant difference in the average weights of these three dogs, but we do not know which pair of datasets is significantly different.'% (ANOVA_mid_size_dogs[1]))\n",
        "print('\\n')"
      ],
      "execution_count": 30,
      "outputs": [
        {
          "output_type": "stream",
          "text": [
            "The P-value obtained from the ANOVA test on these three popular breeds is 0.0000000000 and therefore, we reject the null hypothesis, which is there is significant difference in the average weights of these three dogs, but we do not know which pair of datasets is significantly different.\n",
            "\n",
            "\n"
          ],
          "name": "stdout"
        }
      ]
    },
    {
      "cell_type": "markdown",
      "metadata": {
        "id": "PBCCz6K-PhiK",
        "colab_type": "text"
      },
      "source": [
        "\n",
        "Now, perform another test to determine which of the pairs of these dog breeds differ from each other."
      ]
    },
    {
      "cell_type": "code",
      "metadata": {
        "id": "PX_UtY0fPiP1",
        "colab_type": "code",
        "colab": {
          "base_uri": "https://localhost:8080/",
          "height": 204
        },
        "outputId": "eadeca46-5747-434b-c7fa-38dad1080fc6"
      },
      "source": [
        "values = np.concatenate([w , t , p])\n",
        "labels = ['whippet'] *len(w) + ['terrier'] *len(t) + ['pitbull'] * len(p)\n",
        "tukey_result = pairwise_tukeyhsd(values, labels, alpha = 0.05)\n",
        "\n",
        "print(\"Below is the table generated from the Tukey's Range Test to find out which pair of datasets is statistically different: \\n {}\".format(tukey_result))\n",
        "print('\\n')"
      ],
      "execution_count": 32,
      "outputs": [
        {
          "output_type": "stream",
          "text": [
            "Below is the table generated from the Tukey's Range Test to find out which pair of datasets is statistically different: \n",
            "  Multiple Comparison of Means - Tukey HSD, FWER=0.05 \n",
            "=====================================================\n",
            " group1  group2 meandiff p-adj   lower  upper  reject\n",
            "-----------------------------------------------------\n",
            "pitbull terrier   -13.24  0.001 -16.728 -9.752   True\n",
            "pitbull whippet    -3.34 0.0639  -6.828  0.148  False\n",
            "terrier whippet      9.9  0.001   6.412 13.388   True\n",
            "-----------------------------------------------------\n",
            "\n",
            "\n"
          ],
          "name": "stdout"
        }
      ]
    },
    {
      "cell_type": "markdown",
      "metadata": {
        "id": "ov14UFNGPrXp",
        "colab_type": "text"
      },
      "source": [
        "#Categorical dog test\n"
      ]
    },
    {
      "cell_type": "markdown",
      "metadata": {
        "id": "gZ-5ziyRPsQC",
        "colab_type": "text"
      },
      "source": [
        "\n",
        "We want to see if \"poodle\"s and \"shihtzu\"s have significantly different color breakdowns.\n",
        "\n",
        "Get the poodle colors and store it in a variable called poodle_colors.\n",
        "\n",
        "Get the shih tzu colors and store it in a variable called shihtzu_colors"
      ]
    },
    {
      "cell_type": "code",
      "metadata": {
        "id": "b6cLbf0nPvKe",
        "colab_type": "code",
        "colab": {}
      },
      "source": [
        "poodle_colors = fetchmaker.get_color('poodle')\n",
        "shihtzu_colors = fetchmaker.get_color('shihtzu')"
      ],
      "execution_count": 33,
      "outputs": []
    },
    {
      "cell_type": "code",
      "metadata": {
        "id": "DmJ8YUNxPxBe",
        "colab_type": "code",
        "colab": {
          "base_uri": "https://localhost:8080/",
          "height": 292
        },
        "outputId": "6111c96c-506d-44e1-80c2-d67ad87da738"
      },
      "source": [
        "black_poodle = np.count_nonzero(poodle_colors == 'black')\n",
        "brown_poodle = np.count_nonzero(poodle_colors == 'brown')\n",
        "gold_poodle = np.count_nonzero(poodle_colors == 'gold')\n",
        "grey_poodle = np.count_nonzero(poodle_colors == 'grey')\n",
        "white_poodle = np.count_nonzero(poodle_colors == 'white')\n",
        "#Secondly, obtain the color numbers for shihtzu breed\n",
        "black_shihtzu = np.count_nonzero(shihtzu_colors == 'black')\n",
        "brown_shihtzu = np.count_nonzero(shihtzu_colors == 'brown')\n",
        "gold_shihtzu = np.count_nonzero(shihtzu_colors == 'gold')\n",
        "grey_shihtzu = np.count_nonzero(shihtzu_colors == 'grey')\n",
        "white_shihtzu = np.count_nonzero(shihtzu_colors == 'white')\n",
        "#Next, create the contingency table using a list of lists\n",
        "color_table = [[black_poodle, black_shihtzu],[brown_poodle, brown_shihtzu], [gold_poodle, gold_shihtzu], [grey_poodle, grey_shihtzu], [white_poodle, white_shihtzu]]\n",
        "\n",
        "chi2, pval, dof, expected = chi2_contingency(color_table)\n",
        "print('The statistic of the color_table dataset is %.3f \\n'%(chi2))\n",
        "print('The P-Value of the color_table dataset is %.3f \\n'% (pval))\n",
        "print('The degrees of freedom from the color_table dataset is {} \\n'.format(dof))\n",
        "print('The expected table is as follows: \\n {}'.format(expected))\n",
        "print('\\n')\n",
        "print('The conclusion from the Chi-Square test above is since the P-Value is %.3F, we reject the null hypothesis and stated that there is a significant difference between the datasets'% (pval))"
      ],
      "execution_count": 34,
      "outputs": [
        {
          "output_type": "stream",
          "text": [
            "The statistic of the color_table dataset is 14.727 \n",
            "\n",
            "The P-Value of the color_table dataset is 0.005 \n",
            "\n",
            "The degrees of freedom from the color_table dataset is 4 \n",
            "\n",
            "The expected table is as follows: \n",
            " [[13.5 13.5]\n",
            " [24.5 24.5]\n",
            " [ 7.   7. ]\n",
            " [46.5 46.5]\n",
            " [ 8.5  8.5]]\n",
            "\n",
            "\n",
            "The conclusion from the Chi-Square test above is since the P-Value is 0.005, we reject the null hypothesis and stated that there is a significant difference between the datasets\n"
          ],
          "name": "stdout"
        }
      ]
    }
  ]
}
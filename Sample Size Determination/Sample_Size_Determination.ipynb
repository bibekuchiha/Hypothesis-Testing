{
  "nbformat": 4,
  "nbformat_minor": 0,
  "metadata": {
    "colab": {
      "name": "Sample Size Determination.ipynb",
      "provenance": [],
      "authorship_tag": "ABX9TyP0ZTbQcRx57PZKJDVL7Lxm",
      "include_colab_link": true
    },
    "kernelspec": {
      "name": "python3",
      "display_name": "Python 3"
    }
  },
  "cells": [
    {
      "cell_type": "markdown",
      "metadata": {
        "id": "view-in-github",
        "colab_type": "text"
      },
      "source": [
        "<a href=\"https://colab.research.google.com/github/bibekuchiha/Hypothesis-Testing/blob/master/Sample%20Size%20Determination/Sample_Size_Determination.ipynb\" target=\"_parent\"><img src=\"https://colab.research.google.com/assets/colab-badge.svg\" alt=\"Open In Colab\"/></a>"
      ]
    },
    {
      "cell_type": "markdown",
      "metadata": {
        "id": "lSOK5QgQYhEY",
        "colab_type": "text"
      },
      "source": [
        "LEARN SAMPLE SIZE DETERMINATION WITH SCIPY\n",
        "#Introduction to Sample Size and A/B Testing\n",
        "One of the first steps to designing a successful experiment is determining the number of samples that you need in order to have confidence in the results. We don’t want to go through the trouble of running an A/B test or administering a survey only to discover that we don’t have enough information to make a good decision.\n",
        "\n",
        "For instance, if we asked 5 people who they were voting for in an election, that small sample size would not be sufficient to predict the election results.\n",
        "\n",
        "In this lesson we’ll cover two common types of experiment and their methods of sample size determination:\n",
        "\n",
        "* A/B Tests\n",
        "* Surveys\n",
        "\n",
        "Online sample size calculators are available for both of these scenarios. These calculators will require quantities like “baseline conversion rate” or “population size”, but it’s not always obvious what these should be for a specific experiment. We’ll be covering that and more in this lesson."
      ]
    },
    {
      "cell_type": "markdown",
      "metadata": {
        "id": "qiu_zOjFYuu3",
        "colab_type": "text"
      },
      "source": [
        "#A/B Testing: Using a Calculator\n",
        "An A/B Test is a scientific method of choosing between two options (Option A and Option B). Some examples of A/B tests would include:\n",
        "\n",
        "What number of sale items on a website makes customers most likely to purchase something: 25 or 50?\n",
        "What color button are customers more likely to click on: blue or green?\n",
        "In order to determine the sample size necessary for an A/B test, a sample size calculator requires three numbers:\n",
        "\n",
        "* The Baseline conversion rate\n",
        "* The Minimum detectable effect\n",
        "* The Statistical significance"
      ]
    },
    {
      "cell_type": "markdown",
      "metadata": {
        "id": "6_UynEd5Y5X1",
        "colab_type": "text"
      },
      "source": [
        "#A/B Testing: Understanding the Baseline\n",
        "A/B tests compare an option that we’re currently using to a new option that we suspect might be better. In order to compare the two options, we need a metric. Generally, our metric will be the percent of users who take a certain action after interacting with one of our options. For instance:\n",
        "\n",
        "* The percent of customers who buy a t-shirt after visiting one of two versions of a website\n",
        "* The percent of users who click on one of two versions of an ad\n",
        "* The percent of readers who open an email with one of two subject lines\n",
        "\n",
        "In order to calculate the sample size for our A/B test, we need to know whether we expect our metric to be low or high. It will take more samples to be able to spot a difference when our metric is extremely low or extremely high. Our initial estimate of our metric is called a baseline.\n",
        "\n",
        "We can usually calculate a baseline by looking at historical data for the option that we’re currently using."
      ]
    },
    {
      "cell_type": "markdown",
      "metadata": {
        "id": "HeetSPASZE11",
        "colab_type": "text"
      },
      "source": [
        "**Task**\n",
        "\n",
        "Viral Villanelle is an American internet media company specializing in social news and digital media. Here we looked at how many people visited the website within a ten minute window and how many engaged in our top headline this week: Seventeen Gross Facts About Your Elbows, Number Three Will Astound You. We’ve calculated the quantity of each, saving the values in number_of_site_visitors and number_of_converted_visitors, but would like to know what our conversion rate is.\n",
        "\n",
        "* The conversion rate is the number of converted visitors divided by the total number of visitors."
      ]
    },
    {
      "cell_type": "code",
      "metadata": {
        "id": "ahKIxsmJYevX",
        "colab_type": "code",
        "colab": {
          "base_uri": "https://localhost:8080/",
          "height": 34
        },
        "outputId": "b0854dc1-70c7-405b-92d7-8a300baca569"
      },
      "source": [
        "# Find the size of both of these lists\n",
        "number_of_site_visitors = 2000.0\n",
        "number_of_converted_visitors = 1300.0\n",
        "\n",
        "# Calculate the conversion rate in terms of the above two variables here\n",
        "conversion_rate = number_of_converted_visitors/number_of_site_visitors\n",
        "print(conversion_rate)"
      ],
      "execution_count": 2,
      "outputs": [
        {
          "output_type": "stream",
          "text": [
            "0.65\n"
          ],
          "name": "stdout"
        }
      ]
    },
    {
      "cell_type": "markdown",
      "metadata": {
        "id": "X7kNbPGEangb",
        "colab_type": "text"
      },
      "source": [
        "#A/B Testing: Determining Lift\n",
        "We’re running an A/B Test in order to know if Option B is better than Option A but if Option B were only a tiny percent better, would we really care? In order to detect precise differences, we need a very large sample size. In order to choose a sample size, we need to know the smallest difference that we actually care to measure. This “smallest difference” is called lift.\n",
        "\n",
        "Lift is generally expressed as a percent of the baseline conversion rate. Suppose that 6% of our customers currently buy socks on our website Sock Hops (that’s our baseline conversion rate). We think that a new website layout would increase this. Changing a website layout is hard, so we only think that it’s worth doing if at least 8% of our customers would buy socks on Sock Hops with the new layout. That means that we want to increase our conversions by 2%. To calculate lift:\n",
        "\n",
        "\n",
        "```\n",
        "100 * (new - old) / old\n",
        "100 * (8 - 6) / 6\n",
        "33%\n",
        "```\n",
        "Sock Hops’ desired lift is 33%."
      ]
    },
    {
      "cell_type": "markdown",
      "metadata": {
        "id": "Bb88Q37LavJJ",
        "colab_type": "text"
      },
      "source": [
        "From 8%, calculate what lift you would need to get to 12%. Save that number into a variable called lift_eight_percent_to_twelve_percent."
      ]
    },
    {
      "cell_type": "code",
      "metadata": {
        "id": "xYd_fYTYaylJ",
        "colab_type": "code",
        "colab": {
          "base_uri": "https://localhost:8080/",
          "height": 34
        },
        "outputId": "0c2a8d03-45ef-4e17-e6f1-9c36c55632ed"
      },
      "source": [
        "# 100 * (Final - Initial) / Initial\n",
        "lift_eight_percent_to_twelve_percent = 100 * (12-8)/8\n",
        "print(lift_eight_percent_to_twelve_percent)"
      ],
      "execution_count": 5,
      "outputs": [
        {
          "output_type": "stream",
          "text": [
            "50.0\n"
          ],
          "name": "stdout"
        }
      ]
    },
    {
      "cell_type": "markdown",
      "metadata": {
        "id": "A_0UuEp1bCVZ",
        "colab_type": "text"
      },
      "source": [
        "From 10%, calculate what a 50% increase would be. Save that number into a variable called ten_percent_up_fifty_percent."
      ]
    },
    {
      "cell_type": "code",
      "metadata": {
        "id": "MfcHqUI7bDIo",
        "colab_type": "code",
        "colab": {
          "base_uri": "https://localhost:8080/",
          "height": 34
        },
        "outputId": "26e0e9ec-77ac-4b49-9d6f-4aeefa27617d"
      },
      "source": [
        "# Initial + Initial * Percent Increase\n",
        "ten_percent_up_fifty_percent = (10) + (10 * 0.50)\n",
        "print(ten_percent_up_fifty_percent)"
      ],
      "execution_count": 7,
      "outputs": [
        {
          "output_type": "stream",
          "text": [
            "15.0\n"
          ],
          "name": "stdout"
        }
      ]
    },
    {
      "cell_type": "markdown",
      "metadata": {
        "id": "mMtCjB5VbpRf",
        "colab_type": "text"
      },
      "source": [
        "#A/B Testing: Don't Interfere With Your Tests\n",
        "Brian the Product Manager has been running an A/B Test for a redesign of Viral Villanelle’s landing page. Brian used the principles in the Sample Size Determination course on Codecademy to calculate a sample size. He needs 1,100 users to view each variant of the landing page in order to be able to detect his desired lift. When he reaches a total of 2,200 visits to both variants, he runs a Chi-Square test. The new website design performs slightly better, but the results are not statistically significant. Brian decides to run the test for another week to see if he can get to significance. He really wants to launch the redesigned website and he needs statistical validation to show to his boss.\n",
        "\n",
        "Brian has made a big mistake! By choosing to extend the A/B test past the sample size he needs, he introduces personal bias to the results of the test.\n",
        "\n",
        "If the results had already been significant, he wouldn’t have run the test any longer. If he continues this pattern of preferentially extending the test when he wants a different answer, he will be more likely to get the results he wants, regardless if these desired results reflect reality.\n",
        "\n",
        "It’s sad, but Brian will need to accept that the redesigned website isn’t significantly better than the original website.\n",
        "\n",
        "Here are two important rules for making sure that A/B tests remain unbiased:\n",
        "\n",
        "* Don’t continue to run the test after the predetermined sample size, until “significant” results are found.\n",
        "* Don’t stop a test before reaching the predetermined sample size, just because your results reach significance early (unless there are ethical reasons that require you to stop, like a prescription drug trial).\n",
        "\n",
        "Test data is sensitive to changes in sample size, which is why it is important to calculate beforehand.\n",
        "\n"
      ]
    },
    {
      "cell_type": "markdown",
      "metadata": {
        "id": "Gyf5dfOKbyVI",
        "colab_type": "text"
      },
      "source": [
        "![FireShot Capture 003 - Sample Size Determination - Codecademy - www.codecademy.com.png](data:image/png;base64,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)"
      ]
    },
    {
      "cell_type": "markdown",
      "metadata": {
        "id": "yyY4tqMXcwAY",
        "colab_type": "text"
      },
      "source": [
        "Inspect the graph in the workspace. It shows an A/B Test where the baseline was 5%, and we want to see a lift of 50% (i.e., we want our second option to have at least a 7.5% conversion rate). A sample size calculator tells us that we need 210 samples. The chart shows the cumulative conversion rate after each new sample. When we reach our desired 210 samples, our cumulative conversion rate is slightly higher than 5%, but the difference is not significantly different (indicated by red). By extending the experiment to 320 samples, the difference becomes significantly different (indicated by green). We might conclude that our results are significant if we stopped the experiment at this point. However, we can see this is a temporary fluctuation. After this brief moment of “significance” the conversion rate decreases and our results become insignificant again. By arbitrarily extending the study until it reaches significance, we fool ourselves!"
      ]
    },
    {
      "cell_type": "markdown",
      "metadata": {
        "id": "0KirOC6OdRiL",
        "colab_type": "text"
      },
      "source": [
        "#A/B Testing: Splitting a Test\n",
        "Viral Villanelle’s social media presence drives visits to its website. Product Manager Brian wants to test a new ad. Using a sample size calculator, he finds that he will need a sample size of 1,100. Viral Villanelle’s current advertisement is shown to 500 users per day. What’s the best way for Brian to get his desired sample size?\n",
        "\n",
        "It’s important to remember that Brian will need to show both the old and the new ad to 1,100 users each. If Brian wants to complete this test as quickly as possible, he could randomly divide users into two groups: half of users would see the old ad and half would see the new ad. It would take a little more than 4 days for 2,200 users to see one of the two ads.\n",
        "\n",
        "What if Brian doesn’t want to divide Viral Villanelle’s audience evenly? If Brian is running many different types of A/B tests, he might not want to expose users to a barrage of different tests. Maybe only 10% of users should be shown the new ad, in case it performs terribly. By doing this, he would only be getting 50 users per day towards the 1,100 users that need to see the new ad. In this case, he would need to wait for 22 days (1100 / 50 = 22) in order to get his results, even though he would have gotten the 1,100 views for the old ad 3 days into the experiment.\n",
        "\n",
        "For his final analysis, Brian should use all of the data from the 22 days. The Chi-Square test will correctly take into account that there is more data from the original ad than from the new ad.\n",
        "\n"
      ]
    },
    {
      "cell_type": "markdown",
      "metadata": {
        "id": "3k_CDsZHdsTC",
        "colab_type": "text"
      },
      "source": [
        "Here at the Viral Villanelle, we found an amazing video of a hamster that appears to be rapping along to a chart-topping hip-hop song from 1979. We’ve been running it under the headline This Hamster Gets On The Microphone And What Happens Next Will Amaze You. This is reliably seen by 350 users daily. We are curious to see if our new headline Hamster’s Delight: Watch This Fuzzy Friend’s Rhythm To The Boogie (The Beat) will perform much better.\n",
        "\n",
        "There are concerns that this new headline will alienate the jaded millennial generation so we would like to hedge our bets in case our new version performs poorly. If we only show 20% of our users the new headline, how many days will it take for us to get a sample size of at least 910 for each headline? Save your results in the variable called hamster_headline_experiment_length."
      ]
    },
    {
      "cell_type": "code",
      "metadata": {
        "id": "mqRVyeAmcJ8j",
        "colab_type": "code",
        "colab": {}
      },
      "source": [
        "#20% of 350 = 70\n",
        "#910 / 70 = 13\n",
        "hamster_headline_experiment_length = 13\n"
      ],
      "execution_count": 8,
      "outputs": []
    },
    {
      "cell_type": "markdown",
      "metadata": {
        "id": "70A4y4N7eDXq",
        "colab_type": "text"
      },
      "source": [
        "#Sample Size Calculator for Margin of Error\n",
        "Let’s imagine that we own a juice bar called BeetsMe in the small town of Vancucumber. We want to know what our customers’ favorite vegetable is so that we know what to base our next juice recipe around. How many people do we need to survey to be confident in our results?\n",
        "\n",
        "It is easy to find a sample size calculator online, but it is difficult to determine what parameters to input. Generally, sample size calculators use 4 parameters:\n",
        "\n",
        "* Margin of error\n",
        "* Confidence level\n",
        "* Population size\n",
        "* Expected proportion\n",
        "\n",
        "We have provided an example of a sample size calculator for you in the browser to the right. In the next 4 exercises, we will explain what these parameters mean and how we can choose them to accurately represent our experiment\n",
        "\n",
        "https://s3.amazonaws.com/codecademy-content/courses/learn-hypothesis-testing/margin_of_error/index.html"
      ]
    },
    {
      "cell_type": "markdown",
      "metadata": {
        "id": "v0MevfyHeZkh",
        "colab_type": "text"
      },
      "source": [
        "#Margin of Error\n",
        "What does it mean to have “enough” people for a survey? Generally, we are making sure that our results are within a margin of error of the correct answer.\n",
        "\n",
        "The margin of error is the furthest we expect the true value to be from what we measure in our survey. For example, let’s say we choose a margin of error of 4%. If we get results showing 40% of people love beets the most, we can be confident that the true proportion in the population lies somewhere between 36% and 44%. Thus, the smaller we make the margin of error, the more certainty we have in the results. The larger we make the margin of error, more uncertain we are that they represent the views of the total population.\n",
        "\n",
        "In order to make our margin of error smaller, we will need a larger sample size."
      ]
    },
    {
      "cell_type": "markdown",
      "metadata": {
        "id": "_JZj6bixeyQ4",
        "colab_type": "text"
      },
      "source": [
        "#Population Size\n",
        "Our sample should accurately represent the population as a whole. So, when we are dealing with a larger population, we should probably be sampling more people.\n",
        "\n",
        "It is sometimes tricky to determine what the effective population size is. For example, suppose there are 200 people who currently visit BeetsMe regularly. Is 200 the population size for our vegetable survey?\n",
        "\n",
        "If BeetsMe wants to appeal to the tourists that frequently visit Vancucumber, or if they ever want to launch an online store to ship healthy treats all over the world, the real population size is closer to 8 billion (or infinity, really, if we think about the number of humans who could eventually exist and have vegetable preferences). So, for experiments like this, we use the highest population size we can. Normally, 100,000 will suffice, as changes become negligible beyond that.\n",
        "\n",
        "Often, for decisions that require extrapolation to an unknown customer base, it is important to understand the preferences of a typical person out in the world, whether or not they are part of your customer base right now. Generally, we use this larger population size of 100,000 or greater instead of focusing on the amount of current customers.\n",
        "\n",
        "However, if the small town of Vancucumber is holding an election for a new mayor, and we want to project the results of the election, then the 1700 citizens would be the only important people. In this case, 1700 is the population size we would use in a sample size calculator."
      ]
    },
    {
      "cell_type": "markdown",
      "metadata": {
        "id": "KAsfAyVIe1JB",
        "colab_type": "text"
      },
      "source": [
        "1.\n",
        "You have a subscription service called Flow-etry, which sends customers a recording of a random poem being read rhythmically over a random beat once per day. There have been 100 cancellations in the past month, and 96 of them have answered a cancellation survey.\n",
        "\n",
        "If you are conducting a survey about reasons for cancellation, what is a good choice for population size? Store your answer in a variable called flow_population."
      ]
    },
    {
      "cell_type": "code",
      "metadata": {
        "id": "iK3ZFnwSjUAn",
        "colab_type": "code",
        "colab": {}
      },
      "source": [
        "flow_population = 100000\n"
      ],
      "execution_count": 9,
      "outputs": []
    },
    {
      "cell_type": "markdown",
      "metadata": {
        "id": "3snPhVSYjWCB",
        "colab_type": "text"
      },
      "source": [
        "2.\n",
        "You are doing a company-wide survey to determine what the team-bonding outing should be for this quarter. The options are laser tag, bowling, and karaoke. The company has 643 employees.\n",
        "\n",
        "What is the population size for this survey? Store your answer in a variable called outing_pop."
      ]
    },
    {
      "cell_type": "code",
      "metadata": {
        "id": "X1rQ7FJSjYed",
        "colab_type": "code",
        "colab": {}
      },
      "source": [
        "outing_pop = 643"
      ],
      "execution_count": 10,
      "outputs": []
    },
    {
      "cell_type": "markdown",
      "metadata": {
        "id": "HfRJvnhvjsGM",
        "colab_type": "text"
      },
      "source": [
        "#Likely Sample Proportion\n",
        "Often, before we conduct a survey, we have a guess of what we expect the results to be. This guess could be based upon the results from a previous survey, or perhaps the results of a small pilot study before the real study.\n",
        "\n",
        "As the expected proportion of people with the desired trait decreases, we can survey fewer people. For example, if we are projecting election results and Candidate C has 1% of the voter base, taking a small sample of only 5 people might be fine, because it is very likely that no one we have chosen is voting for Candidate C. This is close enough to the true proportion.\n",
        "\n",
        "As the expected proportion increases, it is rarer that we hit that proportion accurately with the random sample we choose.\n",
        "\n",
        "If we do not have historical data, we normally use 50%, which gives the most conservative (i.e., largest required) sample size."
      ]
    },
    {
      "cell_type": "markdown",
      "metadata": {
        "id": "jvjAE_6Aj-BE",
        "colab_type": "text"
      },
      "source": [
        "#Confidence Level\n",
        "We also need to choose a confidence level. The confidence level is the probability that the margin of error contains the true proportion. For example, if we choose a confidence level of 99%, we can expect that after multiple repetitions of the survey, the true value will lie within our specified range 99% of the time. As we increase the confidence level, we must have a larger sample size.\n",
        "\n",
        "We normally use a confidence level of 95%."
      ]
    },
    {
      "cell_type": "markdown",
      "metadata": {
        "id": "Pwtf21GNkFzU",
        "colab_type": "text"
      },
      "source": [
        "#Sample Size of a Survey\n",
        "Once we determine appropriate values for the margin of error, confidence level, population size, and expected proportion values for our experiment, we can use a sample size calculator to determine the minimum sample size we need to survey to get the desired confidence in our answer.\n",
        "\n",
        "Let’s put together what we’ve learned so far and determine the appropriate sample size for BeetsMe’s vegetable survey."
      ]
    },
    {
      "cell_type": "markdown",
      "metadata": {
        "id": "l_cfntOwlHiS",
        "colab_type": "text"
      },
      "source": [
        "#Differing Survey Results\n",
        "Suppose we are going to survey a group of high school students to see what programming language they want to learn. In the survey, we give the students two choices: JavaScript or Python. This seems like a problem where we would use a Sample Size Survey Calculator.\n",
        "\n",
        "But what if we don’t care about getting a specific margin of error? What if instead, we want to make a comparison: Are girls more likely to want to learn Python than boys are?\n",
        "\n",
        "This survey is more similar to an A/B Test. Our baseline is the approximate percent of the population who want to learn Python, and our lift is the minimum difference between boys and girls that we want to be able to detect.\n",
        "\n",
        "Whenever we want to make comparisons between subpopulations in our survey, we must use the A/B Test Calculator in order to get our desired survey size."
      ]
    },
    {
      "cell_type": "markdown",
      "metadata": {
        "id": "78Bnq5-XlWAr",
        "colab_type": "text"
      },
      "source": [
        ""
      ]
    }
  ]
}